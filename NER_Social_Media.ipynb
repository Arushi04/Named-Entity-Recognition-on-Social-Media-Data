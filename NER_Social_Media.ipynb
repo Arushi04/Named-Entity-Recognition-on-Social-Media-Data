{
  "nbformat": 4,
  "nbformat_minor": 0,
  "metadata": {
    "colab": {
      "name": "NER-Social-Media.ipynb",
      "provenance": [],
      "collapsed_sections": []
    },
    "kernelspec": {
      "name": "python3",
      "display_name": "Python 3"
    },
    "language_info": {
      "name": "python"
    },
    "widgets": {
      "application/vnd.jupyter.widget-state+json": {
        "6f6ccd786e5b43a485d0f9998ff5c52f": {
          "model_module": "@jupyter-widgets/controls",
          "model_name": "HBoxModel",
          "model_module_version": "1.5.0",
          "state": {
            "_view_name": "HBoxView",
            "_dom_classes": [],
            "_model_name": "HBoxModel",
            "_view_module": "@jupyter-widgets/controls",
            "_model_module_version": "1.5.0",
            "_view_count": null,
            "_view_module_version": "1.5.0",
            "box_style": "",
            "layout": "IPY_MODEL_b7b4a058102849dabcc1ce490d19b434",
            "_model_module": "@jupyter-widgets/controls",
            "children": [
              "IPY_MODEL_7e9bdcea2e504b528a820876ada83027",
              "IPY_MODEL_d5c52ca34f4d419c837978eef35a2285",
              "IPY_MODEL_26a33d28e58a47d9a302ca58adc44d3a"
            ]
          }
        },
        "b7b4a058102849dabcc1ce490d19b434": {
          "model_module": "@jupyter-widgets/base",
          "model_name": "LayoutModel",
          "model_module_version": "1.2.0",
          "state": {
            "_view_name": "LayoutView",
            "grid_template_rows": null,
            "right": null,
            "justify_content": null,
            "_view_module": "@jupyter-widgets/base",
            "overflow": null,
            "_model_module_version": "1.2.0",
            "_view_count": null,
            "flex_flow": null,
            "width": null,
            "min_width": null,
            "border": null,
            "align_items": null,
            "bottom": null,
            "_model_module": "@jupyter-widgets/base",
            "top": null,
            "grid_column": null,
            "overflow_y": null,
            "overflow_x": null,
            "grid_auto_flow": null,
            "grid_area": null,
            "grid_template_columns": null,
            "flex": null,
            "_model_name": "LayoutModel",
            "justify_items": null,
            "grid_row": null,
            "max_height": null,
            "align_content": null,
            "visibility": null,
            "align_self": null,
            "height": null,
            "min_height": null,
            "padding": null,
            "grid_auto_rows": null,
            "grid_gap": null,
            "max_width": null,
            "order": null,
            "_view_module_version": "1.2.0",
            "grid_template_areas": null,
            "object_position": null,
            "object_fit": null,
            "grid_auto_columns": null,
            "margin": null,
            "display": null,
            "left": null
          }
        },
        "7e9bdcea2e504b528a820876ada83027": {
          "model_module": "@jupyter-widgets/controls",
          "model_name": "HTMLModel",
          "model_module_version": "1.5.0",
          "state": {
            "_view_name": "HTMLView",
            "style": "IPY_MODEL_c2ffcd89bf0d4ec6a7b2ad8c22870ccc",
            "_dom_classes": [],
            "description": "",
            "_model_name": "HTMLModel",
            "placeholder": "​",
            "_view_module": "@jupyter-widgets/controls",
            "_model_module_version": "1.5.0",
            "value": "train_loss: 0.41872866458304653: 100%",
            "_view_count": null,
            "_view_module_version": "1.5.0",
            "description_tooltip": null,
            "_model_module": "@jupyter-widgets/controls",
            "layout": "IPY_MODEL_6433a6ea5c0f47e7a4cc14fdb46490b9"
          }
        },
        "d5c52ca34f4d419c837978eef35a2285": {
          "model_module": "@jupyter-widgets/controls",
          "model_name": "FloatProgressModel",
          "model_module_version": "1.5.0",
          "state": {
            "_view_name": "ProgressView",
            "style": "IPY_MODEL_08348322afa24e26bcd9e1c45ff52cf1",
            "_dom_classes": [],
            "description": "",
            "_model_name": "FloatProgressModel",
            "bar_style": "",
            "max": 25,
            "_view_module": "@jupyter-widgets/controls",
            "_model_module_version": "1.5.0",
            "value": 25,
            "_view_count": null,
            "_view_module_version": "1.5.0",
            "orientation": "horizontal",
            "min": 0,
            "description_tooltip": null,
            "_model_module": "@jupyter-widgets/controls",
            "layout": "IPY_MODEL_767eb19438c94244af67a58348cd4127"
          }
        },
        "26a33d28e58a47d9a302ca58adc44d3a": {
          "model_module": "@jupyter-widgets/controls",
          "model_name": "HTMLModel",
          "model_module_version": "1.5.0",
          "state": {
            "_view_name": "HTMLView",
            "style": "IPY_MODEL_8c0c510a0894499488a567245c672909",
            "_dom_classes": [],
            "description": "",
            "_model_name": "HTMLModel",
            "placeholder": "​",
            "_view_module": "@jupyter-widgets/controls",
            "_model_module_version": "1.5.0",
            "value": " 25/25 [04:10&lt;00:00, 10.07s/it]",
            "_view_count": null,
            "_view_module_version": "1.5.0",
            "description_tooltip": null,
            "_model_module": "@jupyter-widgets/controls",
            "layout": "IPY_MODEL_2d17cd7fff2c4368a9028fd7e7d5cf63"
          }
        },
        "c2ffcd89bf0d4ec6a7b2ad8c22870ccc": {
          "model_module": "@jupyter-widgets/controls",
          "model_name": "DescriptionStyleModel",
          "model_module_version": "1.5.0",
          "state": {
            "_view_name": "StyleView",
            "_model_name": "DescriptionStyleModel",
            "description_width": "",
            "_view_module": "@jupyter-widgets/base",
            "_model_module_version": "1.5.0",
            "_view_count": null,
            "_view_module_version": "1.2.0",
            "_model_module": "@jupyter-widgets/controls"
          }
        },
        "6433a6ea5c0f47e7a4cc14fdb46490b9": {
          "model_module": "@jupyter-widgets/base",
          "model_name": "LayoutModel",
          "model_module_version": "1.2.0",
          "state": {
            "_view_name": "LayoutView",
            "grid_template_rows": null,
            "right": null,
            "justify_content": null,
            "_view_module": "@jupyter-widgets/base",
            "overflow": null,
            "_model_module_version": "1.2.0",
            "_view_count": null,
            "flex_flow": null,
            "width": null,
            "min_width": null,
            "border": null,
            "align_items": null,
            "bottom": null,
            "_model_module": "@jupyter-widgets/base",
            "top": null,
            "grid_column": null,
            "overflow_y": null,
            "overflow_x": null,
            "grid_auto_flow": null,
            "grid_area": null,
            "grid_template_columns": null,
            "flex": null,
            "_model_name": "LayoutModel",
            "justify_items": null,
            "grid_row": null,
            "max_height": null,
            "align_content": null,
            "visibility": null,
            "align_self": null,
            "height": null,
            "min_height": null,
            "padding": null,
            "grid_auto_rows": null,
            "grid_gap": null,
            "max_width": null,
            "order": null,
            "_view_module_version": "1.2.0",
            "grid_template_areas": null,
            "object_position": null,
            "object_fit": null,
            "grid_auto_columns": null,
            "margin": null,
            "display": null,
            "left": null
          }
        },
        "08348322afa24e26bcd9e1c45ff52cf1": {
          "model_module": "@jupyter-widgets/controls",
          "model_name": "ProgressStyleModel",
          "model_module_version": "1.5.0",
          "state": {
            "_view_name": "StyleView",
            "_model_name": "ProgressStyleModel",
            "description_width": "",
            "_view_module": "@jupyter-widgets/base",
            "_model_module_version": "1.5.0",
            "_view_count": null,
            "_view_module_version": "1.2.0",
            "bar_color": null,
            "_model_module": "@jupyter-widgets/controls"
          }
        },
        "767eb19438c94244af67a58348cd4127": {
          "model_module": "@jupyter-widgets/base",
          "model_name": "LayoutModel",
          "model_module_version": "1.2.0",
          "state": {
            "_view_name": "LayoutView",
            "grid_template_rows": null,
            "right": null,
            "justify_content": null,
            "_view_module": "@jupyter-widgets/base",
            "overflow": null,
            "_model_module_version": "1.2.0",
            "_view_count": null,
            "flex_flow": null,
            "width": null,
            "min_width": null,
            "border": null,
            "align_items": null,
            "bottom": null,
            "_model_module": "@jupyter-widgets/base",
            "top": null,
            "grid_column": null,
            "overflow_y": null,
            "overflow_x": null,
            "grid_auto_flow": null,
            "grid_area": null,
            "grid_template_columns": null,
            "flex": null,
            "_model_name": "LayoutModel",
            "justify_items": null,
            "grid_row": null,
            "max_height": null,
            "align_content": null,
            "visibility": null,
            "align_self": null,
            "height": null,
            "min_height": null,
            "padding": null,
            "grid_auto_rows": null,
            "grid_gap": null,
            "max_width": null,
            "order": null,
            "_view_module_version": "1.2.0",
            "grid_template_areas": null,
            "object_position": null,
            "object_fit": null,
            "grid_auto_columns": null,
            "margin": null,
            "display": null,
            "left": null
          }
        },
        "8c0c510a0894499488a567245c672909": {
          "model_module": "@jupyter-widgets/controls",
          "model_name": "DescriptionStyleModel",
          "model_module_version": "1.5.0",
          "state": {
            "_view_name": "StyleView",
            "_model_name": "DescriptionStyleModel",
            "description_width": "",
            "_view_module": "@jupyter-widgets/base",
            "_model_module_version": "1.5.0",
            "_view_count": null,
            "_view_module_version": "1.2.0",
            "_model_module": "@jupyter-widgets/controls"
          }
        },
        "2d17cd7fff2c4368a9028fd7e7d5cf63": {
          "model_module": "@jupyter-widgets/base",
          "model_name": "LayoutModel",
          "model_module_version": "1.2.0",
          "state": {
            "_view_name": "LayoutView",
            "grid_template_rows": null,
            "right": null,
            "justify_content": null,
            "_view_module": "@jupyter-widgets/base",
            "overflow": null,
            "_model_module_version": "1.2.0",
            "_view_count": null,
            "flex_flow": null,
            "width": null,
            "min_width": null,
            "border": null,
            "align_items": null,
            "bottom": null,
            "_model_module": "@jupyter-widgets/base",
            "top": null,
            "grid_column": null,
            "overflow_y": null,
            "overflow_x": null,
            "grid_auto_flow": null,
            "grid_area": null,
            "grid_template_columns": null,
            "flex": null,
            "_model_name": "LayoutModel",
            "justify_items": null,
            "grid_row": null,
            "max_height": null,
            "align_content": null,
            "visibility": null,
            "align_self": null,
            "height": null,
            "min_height": null,
            "padding": null,
            "grid_auto_rows": null,
            "grid_gap": null,
            "max_width": null,
            "order": null,
            "_view_module_version": "1.2.0",
            "grid_template_areas": null,
            "object_position": null,
            "object_fit": null,
            "grid_auto_columns": null,
            "margin": null,
            "display": null,
            "left": null
          }
        }
      }
    }
  },
  "cells": [
    {
      "cell_type": "code",
      "metadata": {
        "colab": {
          "base_uri": "https://localhost:8080/"
        },
        "id": "2YZuGJQ9GLWz",
        "outputId": "e21daa8c-ec5c-423b-d67b-2b91d71bc0c5"
      },
      "source": [
        "!pip install pytorch-crf"
      ],
      "execution_count": null,
      "outputs": [
        {
          "output_type": "stream",
          "name": "stdout",
          "text": [
            "Collecting pytorch-crf\n",
            "  Downloading pytorch_crf-0.7.2-py3-none-any.whl (9.5 kB)\n",
            "Installing collected packages: pytorch-crf\n",
            "Successfully installed pytorch-crf-0.7.2\n"
          ]
        }
      ]
    },
    {
      "cell_type": "code",
      "metadata": {
        "id": "PEFcAaCYGsPP"
      },
      "source": [
        "import random\n",
        "import numpy as np\n",
        "import pandas as pd\n",
        "from collections import OrderedDict\n",
        "\n",
        "import torch\n",
        "import torch.nn as nn\n",
        "from torch import optim\n",
        "from torchcrf import CRF\n",
        "from torch.utils.data import Dataset, DataLoader\n",
        "\n",
        "from tqdm.notebook import tqdm\n",
        "import matplotlib.pyplot as plt\n",
        "\n",
        "from sklearn.metrics import classification_report\n",
        "from typing import Union, List, Tuple"
      ],
      "execution_count": null,
      "outputs": []
    },
    {
      "cell_type": "markdown",
      "metadata": {
        "id": "pi62-jF0cKKB"
      },
      "source": [
        "# DATA PREPROCESSING"
      ]
    },
    {
      "cell_type": "code",
      "metadata": {
        "id": "kvjXU1P2cM7F"
      },
      "source": [
        "train_sents= []\n",
        "f = open(\"/content/wnut17train.conll\")\n",
        "sent = []\n",
        "for l in f.readlines():\n",
        "  sent.append(tuple(l.strip().split(\"\\t\")))\n",
        "  if len(l.strip()) == 0 :\n",
        "    train_sents.append(sent)\n",
        "    sent = []\n",
        "  \n",
        "\n",
        "for sent in train_sents:\n",
        "  del sent[-1]\n"
      ],
      "execution_count": null,
      "outputs": []
    },
    {
      "cell_type": "code",
      "metadata": {
        "id": "XjWbNQ8ncM4F",
        "colab": {
          "base_uri": "https://localhost:8080/",
          "height": 265
        },
        "outputId": "95a5513a-98a0-44c6-9499-a0407b42ca14"
      },
      "source": [
        "sen_lens = [len(sentence) for sentence in train_sents]\n",
        "plt.hist(sen_lens)\n",
        "plt.show()"
      ],
      "execution_count": null,
      "outputs": [
        {
          "output_type": "display_data",
          "data": {
            "image/png": "[encoded data removed]",
            "text/plain": [
              "<Figure size 432x288 with 1 Axes>"
            ]
          },
          "metadata": {
            "needs_background": "light"
          }
        }
      ]
    },
    {
      "cell_type": "code",
      "source": [
        "def prepare_vocabulary_tags(\n",
        "    train_sents: List[List[Tuple[str, str]]],\n",
        "    unknown_percent:int = None):\n",
        "  \n",
        "    tags = set()\n",
        "    for sentence in train_sents:\n",
        "        for line in sentence:\n",
        "            tags.add(line[1])\n",
        "    tags = sorted(tags, key=len)\n",
        "    tag_to_ix = {tag:i for i,tag in enumerate(tags)}\n",
        "\n",
        "    word_to_ix = {}\n",
        "    word_to_ix['<UNK>'] = 0\n",
        "    word_to_ix['<PAD>'] = 1\n",
        "\n",
        "    # For each words-list (sentence) and tags-list in each tuple of training_data\n",
        "    for sentence in train_sents:\n",
        "        for line in sentence:\n",
        "            if line[0] not in word_to_ix:  # word has not been assigned an index yet\n",
        "                word_to_ix[line[0]] = len(word_to_ix)  # Assign each word with a unique index\n",
        "\n",
        "    if unknown_percent:\n",
        "        print(\"Using randomized unkown tokens\")\n",
        "\n",
        "        num_total_words = len(word_to_ix) - 2  # not considering pad and unk token\n",
        "        num_unknown_words = round(num_total_words*unknown_percent)\n",
        "\n",
        "        unknown_indices = np.random.randint(low = 2, high=len(word_to_ix)-1, size = num_unknown_words)\n",
        "        all_keys = list(word_to_ix.keys())\n",
        "\n",
        "        all_keys.remove('<PAD>')\n",
        "        all_keys.remove('<UNK>')\n",
        "        random_keys = random.sample(all_keys, num_unknown_words)\n",
        "\n",
        "        for word in random_keys:\n",
        "            word_to_ix[word] = 0 # <UNK> index\n",
        "\n",
        "    return tag_to_ix, word_to_ix"
      ],
      "metadata": {
        "id": "Ae08qeq_MB-1"
      },
      "execution_count": null,
      "outputs": []
    },
    {
      "cell_type": "code",
      "source": [
        "tag_to_ix, word_to_ix = prepare_vocabulary_tags(train_sents, 0.05)"
      ],
      "metadata": {
        "id": "A4WWhAKfdgu7"
      },
      "execution_count": null,
      "outputs": []
    },
    {
      "cell_type": "code",
      "source": [
        "tag_to_ix"
      ],
      "metadata": {
        "colab": {
          "base_uri": "https://localhost:8080/"
        },
        "id": "wPlPl2SmbD2E",
        "outputId": "9f825f28-2576-4647-a457-96edd113f00e"
      },
      "execution_count": null,
      "outputs": [
        {
          "output_type": "execute_result",
          "data": {
            "text/plain": [
              "{'B-corporation': 10,\n",
              " 'B-creative-work': 12,\n",
              " 'B-group': 2,\n",
              " 'B-location': 7,\n",
              " 'B-person': 3,\n",
              " 'B-product': 6,\n",
              " 'I-corporation': 9,\n",
              " 'I-creative-work': 11,\n",
              " 'I-group': 1,\n",
              " 'I-location': 8,\n",
              " 'I-person': 4,\n",
              " 'I-product': 5,\n",
              " 'O': 0}"
            ]
          },
          "metadata": {},
          "execution_count": 18
        }
      ]
    },
    {
      "cell_type": "code",
      "metadata": {
        "id": "6ynYrNoajT9w"
      },
      "source": [
        "class NerDataset(Dataset):\n",
        "    def __init__(self, file_path, transform = None):\n",
        "        self.file_path = file_path\n",
        "        self.transform = transform\n",
        "        # self.train_sents = self.read_data()\n",
        "        self.X, self.y = self.read_data()\n",
        "        self.n_samples = len(self.X)\n",
        "        self.add_padding()\n",
        "        \n",
        "    def __getitem__(self, idx):\n",
        "        sample = self.X[idx], self.y[idx]\n",
        "        if self.transform:\n",
        "            sample = self.transform(sample)\n",
        "\n",
        "        return sample\n",
        "    \n",
        "    def __len__(self):\n",
        "        return self.n_samples\n",
        "\n",
        "    def read_data(self):\n",
        "        X = []\n",
        "        y = []\n",
        "        f = open(self.file_path)\n",
        "        tokens = []\n",
        "        tags = []\n",
        "        for l in f.readlines():\n",
        "          if len(l.strip()) == 0 :\n",
        "            X.append(tokens)\n",
        "            y.append(tags)\n",
        "            tokens = []\n",
        "            tags = []\n",
        "          else:\n",
        "            token, tag = l.strip().split(\"\\t\")\n",
        "            if token in word_to_ix:\n",
        "                tokens.append(word_to_ix[token])\n",
        "            else:\n",
        "                tokens.append(0) # index for <UNK> \n",
        "            tags.append(tag_to_ix[tag])\n",
        "        \n",
        "        return X, y\n",
        "\n",
        "    def add_padding(self):\n",
        "        max_length = max([len(s) for s in self.X])\n",
        "        for sentence in self.X:\n",
        "           while len(sentence) <= max_length:\n",
        "               sentence.append(1) # pad index is 1 in word_to_ix\n",
        "        for tags in self.y:\n",
        "            while len(tags) <= max_length:\n",
        "                tags.append(len(tag_to_ix))\n",
        "\n",
        "class customToTensor:\n",
        "  def __call__(self, sample):\n",
        "    inputs, labels = sample\n",
        "\n",
        "    return torch.from_numpy(np.array(inputs)), torch.from_numpy(np.array(labels))"
      ],
      "execution_count": null,
      "outputs": []
    },
    {
      "cell_type": "code",
      "metadata": {
        "id": "N-GGt0sqlNml"
      },
      "source": [
        "dataset = NerDataset(file_path=\"/content/wnut17train.conll\", transform= customToTensor())"
      ],
      "execution_count": null,
      "outputs": []
    },
    {
      "cell_type": "code",
      "metadata": {
        "id": "ohFLsbw1lXaz"
      },
      "source": [
        "dataloader = DataLoader(dataset = dataset, batch_size=4)"
      ],
      "execution_count": null,
      "outputs": []
    },
    {
      "cell_type": "code",
      "metadata": {
        "colab": {
          "base_uri": "https://localhost:8080/"
        },
        "id": "QGGEVaRdovXy",
        "outputId": "2659648f-228d-4dd7-ea8d-74ee79813364"
      },
      "source": [
        "first_data = dataset[0]\n",
        "features,labels = first_data\n",
        "# print(first_data)\n",
        "print(features)\n",
        "print(labels)"
      ],
      "execution_count": null,
      "outputs": [
        {
          "output_type": "stream",
          "name": "stdout",
          "text": [
            "tensor([ 2,  3,  4,  5,  6,  0,  0,  9, 10, 11, 12, 13, 14, 15, 16,  0, 18, 19,\n",
            "        20, 15, 21, 22, 23, 24, 25, 26, 15,  1,  1,  1,  1,  1,  1,  1,  1,  1,\n",
            "         1,  1,  1,  1,  1,  1])\n",
            "tensor([ 0,  0,  0,  0,  0,  0,  0,  0,  0,  0,  0,  0,  0,  0,  7,  8,  8,  0,\n",
            "         7,  0,  0,  0,  0,  0,  0,  0,  0, 13, 13, 13, 13, 13, 13, 13, 13, 13,\n",
            "        13, 13, 13, 13, 13, 13])\n"
          ]
        }
      ]
    },
    {
      "cell_type": "code",
      "metadata": {
        "colab": {
          "base_uri": "https://localhost:8080/"
        },
        "id": "hktvq0PzorWJ",
        "outputId": "76acd0c9-6e1f-4c71-fdd0-ad016f40f45b"
      },
      "source": [
        "dataiter = iter(dataloader)\n",
        "data = dataiter.next()\n",
        "features, labels = data\n",
        "print(features.size(), labels.size())\n",
        "print(features)\n",
        "print(labels)"
      ],
      "execution_count": null,
      "outputs": [
        {
          "output_type": "stream",
          "name": "stdout",
          "text": [
            "torch.Size([4, 42]) torch.Size([4, 42])\n",
            "tensor([[ 2,  3,  4,  5,  6,  0,  0,  9, 10, 11, 12, 13, 14, 15, 16,  0, 18, 19,\n",
            "         20, 15, 21, 22, 23, 24, 25, 26, 15,  1,  1,  1,  1,  1,  1,  1,  1,  1,\n",
            "          1,  1,  1,  1,  1,  1],\n",
            "        [27, 28, 29, 30, 31, 32, 33, 12, 34, 35, 36, 37, 15, 38, 39,  1,  1,  1,\n",
            "          1,  1,  1,  1,  1,  1,  1,  1,  1,  1,  1,  1,  1,  1,  1,  1,  1,  1,\n",
            "          1,  1,  1,  1,  1,  1],\n",
            "        [40, 41,  0, 43, 44, 45, 46, 47, 48, 49, 50, 51,  1,  1,  1,  1,  1,  1,\n",
            "          1,  1,  1,  1,  1,  1,  1,  1,  1,  1,  1,  1,  1,  1,  1,  1,  1,  1,\n",
            "          1,  1,  1,  1,  1,  1],\n",
            "        [52, 53, 54, 25, 55, 56,  5, 57, 15,  1,  1,  1,  1,  1,  1,  1,  1,  1,\n",
            "          1,  1,  1,  1,  1,  1,  1,  1,  1,  1,  1,  1,  1,  1,  1,  1,  1,  1,\n",
            "          1,  1,  1,  1,  1,  1]])\n",
            "tensor([[ 0,  0,  0,  0,  0,  0,  0,  0,  0,  0,  0,  0,  0,  0,  7,  8,  8,  0,\n",
            "          7,  0,  0,  0,  0,  0,  0,  0,  0, 13, 13, 13, 13, 13, 13, 13, 13, 13,\n",
            "         13, 13, 13, 13, 13, 13],\n",
            "        [ 0,  0,  0,  0,  2,  0,  0,  0,  0,  0,  0,  0,  0,  0,  0, 13, 13, 13,\n",
            "         13, 13, 13, 13, 13, 13, 13, 13, 13, 13, 13, 13, 13, 13, 13, 13, 13, 13,\n",
            "         13, 13, 13, 13, 13, 13],\n",
            "        [10,  0,  0,  0,  0,  0,  0,  0,  0,  0,  0,  0, 13, 13, 13, 13, 13, 13,\n",
            "         13, 13, 13, 13, 13, 13, 13, 13, 13, 13, 13, 13, 13, 13, 13, 13, 13, 13,\n",
            "         13, 13, 13, 13, 13, 13],\n",
            "        [ 0,  0,  0,  0,  0,  0,  0,  0,  0, 13, 13, 13, 13, 13, 13, 13, 13, 13,\n",
            "         13, 13, 13, 13, 13, 13, 13, 13, 13, 13, 13, 13, 13, 13, 13, 13, 13, 13,\n",
            "         13, 13, 13, 13, 13, 13]])\n"
          ]
        }
      ]
    },
    {
      "cell_type": "markdown",
      "metadata": {
        "id": "fQd2MzMjcJAt"
      },
      "source": [
        "# MODEL"
      ]
    },
    {
      "cell_type": "code",
      "metadata": {
        "id": "uOl7m-M2Xcqq"
      },
      "source": [
        "EMBEDDING_DIM = 50 #input size\n",
        "HIDDEN_DIM = 32\n",
        "BATCH_SIZE = 15\n",
        "NUM_ENTITIES = len(tag_to_ix) + 1 # to account for pad tag\n",
        "VOCAB_SIZE = len(word_to_ix)\n",
        "NUM_EPOCHS = 50"
      ],
      "execution_count": null,
      "outputs": []
    },
    {
      "cell_type": "code",
      "metadata": {
        "id": "CkuPtAOLHEA0"
      },
      "source": [
        "class NER_Model(nn.Module):\n",
        "  \"\"\"Named Entity Recognition\n",
        "  \"\"\"\n",
        "\n",
        "  def __init__(self, \n",
        "              input_size: int, \n",
        "              hidden_size: int, \n",
        "              num_classes: int,\n",
        "              vocab_size: int,\n",
        "              num_layers: int,\n",
        "              bi_directional:bool,\n",
        "              use_crf:bool = False):\n",
        "      \"\"\"\n",
        "      Parameters:\n",
        "        input_size: embedding dimensions\n",
        "        hidden_size: hidden layer dimension\n",
        "        num_classes: number of entities/classes\n",
        "        vocab_size: number of words in training data\n",
        "        num_layers: number of latm layers\n",
        "        bi_directional: BiLSTM if True else LSTM\n",
        "        use_crf: CRF layer if True else NLL loss\n",
        "      \"\"\"\n",
        "      super(NER_Model, self).__init__()\n",
        "      self.input_size = input_size\n",
        "      self.hidden_size = hidden_size\n",
        "      self.num_classes = num_classes\n",
        "      self.vocab_size = vocab_size\n",
        "      self.num_layers = num_layers\n",
        "      self.use_crf = use_crf\n",
        "      self.bi_directional = bi_directional\n",
        "\n",
        "      self.word_embeddings = nn.Embedding(vocab_size, input_size)\n",
        "\n",
        "      if self.bi_directional:\n",
        "          self.lstm = nn.LSTM(input_size = input_size, hidden_size = hidden_size, \n",
        "                              bidirectional = self.bi_directional, batch_first = True)\n",
        "          self.linear = nn.Linear(in_features = 2*hidden_size, out_features= num_classes) \n",
        "      else:\n",
        "          self.lstm = nn.LSTM(input_size = input_size, hidden_size = hidden_size, batch_first = True)\n",
        "          self.linear = nn.Linear(in_features = hidden_size, out_features= num_classes) \n",
        "      \n",
        "      self.logsoftmax = nn.LogSoftmax(dim=2)\n",
        "\n",
        "      self.crf = CRF(self.num_classes, batch_first=True)\n",
        "\n",
        "  def forward(self, x):\n",
        "      \"\"\"\n",
        "      Parameters:\n",
        "          x: input (batch_size, seq_len, input_dim)\n",
        "      \"\"\"\n",
        "      x = self.word_embeddings(x)\n",
        "\n",
        "      batch_size = x.size()[0]\n",
        "\n",
        "      h0, c0 = self.init_hidden(batch_size)\n",
        "\n",
        "      # output = (batch_size, seq_len, hidden_size)\n",
        "      output, (hn, cn) = self.lstm(x, (h0,c0))\n",
        "\n",
        "      # output = (batch_size, seq_len, num_classes)\n",
        "      output = self.linear(output)\n",
        "\n",
        "      if self.use_crf:\n",
        "          return output\n",
        "      else:    \n",
        "          # output = (batch_size, seq_len, num_classes)\n",
        "          output = self.logsoftmax(output)\n",
        "\n",
        "      return output\n",
        "\n",
        "  def init_hidden(self, batch_size: int):\n",
        "      \"\"\"Initialize hidden state\n",
        "      \n",
        "      Parameters:\n",
        "          batch_size: input batch size\n",
        "\n",
        "      Returns:\n",
        "          Tuple of initial hidden_state and cell_state filled with zeroes\n",
        "      \"\"\"\n",
        "\n",
        "      if self.bi_directional:\n",
        "          D = 2\n",
        "      else:\n",
        "          D = 1 \n",
        "      h0 = torch.zeros(D*self.num_layers, batch_size, self.hidden_size)\n",
        "      c0 = torch.zeros(D*self.num_layers, batch_size, self.hidden_size)\n",
        "\n",
        "      return h0, c0\n",
        "\n",
        "def calculate_metrics(dataloader: DataLoader):\n",
        "    true_labels = []\n",
        "    pred_labels = []\n",
        "\n",
        "    with torch.no_grad():\n",
        "      n_correct = 0\n",
        "      n_samples = 0\n",
        "      for input, label in dataloader:\n",
        "\n",
        "        # output (batch_size, seq_len, num_classes), label = (batch_size, seq_len, 1)\n",
        "        output = ner(input)\n",
        "\n",
        "        if ner.use_crf:\n",
        "            predictions = torch.tensor(ner.crf.decode(output))\n",
        "            predictions = predictions.view(-1)\n",
        "\n",
        "        else:\n",
        "        # output (batch_size, seq_len, num_classes) -> (batch_size * seq_len, num_classes)\n",
        "            output = output.view(-1, NUM_ENTITIES)\n",
        "            # predictions = (batch_size * seq_len)\n",
        "            _, predictions = torch.max(output, 1)\n",
        "\n",
        "        # label (batch_size, seq_len, 1) -> (batch_size * seq_len)\n",
        "        label = label.view(-1)\n",
        "\n",
        "        true_labels += label\n",
        "        pred_labels += predictions\n",
        "\n",
        "    true_labels = [l.item() for l in true_labels]\n",
        "    pred_labels = [l.item() for l in pred_labels]\n",
        "\n",
        "    if ner.use_crf:\n",
        "        print(\"Using CRF\")\n",
        "        \n",
        "    print(classification_report(y_true= true_labels, y_pred= pred_labels))"
      ],
      "execution_count": null,
      "outputs": []
    },
    {
      "cell_type": "code",
      "metadata": {
        "id": "IIKtqAjmLT8P"
      },
      "source": [
        "ner = NER_Model(input_size= EMBEDDING_DIM, hidden_size= HIDDEN_DIM, num_classes= NUM_ENTITIES, \n",
        "                vocab_size=VOCAB_SIZE, num_layers=1, bi_directional = True, use_crf = True)\n",
        "optimizer = optim.Adam(ner.parameters(), lr=0.01, weight_decay=1e-4)\n",
        "# optimizer = optim.SGD(ner.parameters(), lr = 0.005)\n",
        "criterion = nn.NLLLoss(ignore_index=13)"
      ],
      "execution_count": null,
      "outputs": []
    },
    {
      "cell_type": "code",
      "metadata": {
        "id": "uxZXP-R8JskD"
      },
      "source": [
        "train_dataset = NerDataset(file_path=\"/content/wnut17train.conll\", transform= customToTensor())\n",
        "train_dataloader = DataLoader(dataset = train_dataset, batch_size=BATCH_SIZE)\n",
        "\n",
        "val_dataset = NerDataset(file_path=\"/content/emerging.dev.conll\", transform= customToTensor())\n",
        "val_dataloader = DataLoader(dataset = val_dataset, batch_size=BATCH_SIZE)"
      ],
      "execution_count": null,
      "outputs": []
    },
    {
      "cell_type": "code",
      "metadata": {
        "colab": {
          "base_uri": "https://localhost:8080/",
          "height": 17,
          "referenced_widgets": [
            "6f6ccd786e5b43a485d0f9998ff5c52f",
            "b7b4a058102849dabcc1ce490d19b434",
            "7e9bdcea2e504b528a820876ada83027",
            "d5c52ca34f4d419c837978eef35a2285",
            "26a33d28e58a47d9a302ca58adc44d3a",
            "c2ffcd89bf0d4ec6a7b2ad8c22870ccc",
            "6433a6ea5c0f47e7a4cc14fdb46490b9",
            "08348322afa24e26bcd9e1c45ff52cf1",
            "767eb19438c94244af67a58348cd4127",
            "8c0c510a0894499488a567245c672909",
            "2d17cd7fff2c4368a9028fd7e7d5cf63"
          ]
        },
        "id": "NurL4taZhVv1",
        "outputId": "29f3499b-b5d4-43c1-a0f6-171bd68bfa9b"
      },
      "source": [
        "metric = {'epoch': [], 'train_loss': [], 'val_loss': []}\n",
        "loss_metric = []\n",
        "t = tqdm(range(NUM_EPOCHS), leave=False, position=0)\n",
        "for epoch in t:\n",
        "  batch_train_loss = []\n",
        "  for input, label in train_dataloader:\n",
        "    \n",
        "    optimizer.zero_grad()\n",
        "\n",
        "    # output (batch_size, seq_len, num_classes), label = (batch_size, seq_len, 1)\n",
        "    output = ner(input)\n",
        "\n",
        "    if ner.use_crf:\n",
        "\n",
        "        loss = -ner.crf(output, label) #mask\n",
        "\n",
        "    else:\n",
        "        # label (batch_size, seq_len, 1) -> (batch_size * seq_len)\n",
        "        label = label.view(-1)\n",
        "        # output (batch_size, seq_len, num_classes) -> (batch_size * seq_len, num_classes)\n",
        "        output = output.view(-1, NUM_ENTITIES)\n",
        "        loss = criterion(output, label)\n",
        "\n",
        "    batch_train_loss.append(loss.item())\n",
        "    loss.backward()\n",
        "    optimizer.step()\n",
        "  epoch_train_loss  = sum(batch_train_loss)/ len(batch_train_loss)\n",
        "  metric['train_loss'].append(epoch_train_loss)\n",
        "  t.set_description(f\"train_loss: {epoch_train_loss}\")\n",
        "\n",
        "  with torch.no_grad():\n",
        "    batch_val_loss = []\n",
        "    for input, label in val_dataloader:\n",
        "\n",
        "      # output (batch_size, seq_len, num_classes), label = (batch_size, seq_len, 1)\n",
        "      output = ner(input)\n",
        "\n",
        "      if ner.use_crf:\n",
        "\n",
        "          val_loss = -ner.crf(output, label)\n",
        "\n",
        "      else:\n",
        "\n",
        "          # label (batch_size, seq_len, 1) -> (batch_size * seq_len)\n",
        "          label = label.view(-1)\n",
        "          # output (batch_size, seq_len, num_classes) -> (batch_size * seq_len, num_classes)\n",
        "          output = output.view(-1, NUM_ENTITIES)\n",
        "          val_loss = criterion(output, label)\n",
        "      \n",
        "      batch_val_loss.append(val_loss)\n",
        "    epoch_val_loss  = sum(batch_val_loss)/ len(batch_val_loss)\n",
        "    metric['val_loss'].append(epoch_val_loss)\n",
        "\n"
      ],
      "execution_count": null,
      "outputs": [
        {
          "output_type": "display_data",
          "data": {
            "application/vnd.jupyter.widget-view+json": {
              "model_id": "6f6ccd786e5b43a485d0f9998ff5c52f",
              "version_minor": 0,
              "version_major": 2
            },
            "text/plain": [
              "  0%|          | 0/25 [00:00<?, ?it/s]"
            ]
          },
          "metadata": {}
        }
      ]
    },
    {
      "cell_type": "code",
      "metadata": {
        "id": "EETrHEpaYDc2",
        "colab": {
          "base_uri": "https://localhost:8080/"
        },
        "outputId": "8c9f48ca-eafd-4c67-8f47-7218c800cf44"
      },
      "source": [
        "calculate_metrics(train_dataloader)"
      ],
      "execution_count": null,
      "outputs": [
        {
          "output_type": "stream",
          "name": "stdout",
          "text": [
            "Using CRF\n",
            "              precision    recall  f1-score   support\n",
            "\n",
            "           0       1.00      1.00      1.00     59570\n",
            "           1       0.99      0.97      0.98       150\n",
            "           2       0.98      0.98      0.98       264\n",
            "           3       0.99      1.00      0.99       660\n",
            "           4       0.98      1.00      0.99       335\n",
            "           5       1.00      1.00      1.00       203\n",
            "           6       0.99      0.99      0.99       142\n",
            "           7       0.99      0.98      0.99       548\n",
            "           8       1.00      0.96      0.98       245\n",
            "           9       0.96      1.00      0.98        46\n",
            "          10       0.98      1.00      0.99       221\n",
            "          11       1.00      1.00      1.00       206\n",
            "          12       0.99      0.99      0.99       140\n",
            "          13       1.00      1.00      1.00     79818\n",
            "\n",
            "    accuracy                           1.00    142548\n",
            "   macro avg       0.99      0.99      0.99    142548\n",
            "weighted avg       1.00      1.00      1.00    142548\n",
            "\n"
          ]
        }
      ]
    },
    {
      "cell_type": "code",
      "metadata": {
        "colab": {
          "base_uri": "https://localhost:8080/",
          "height": 612
        },
        "id": "4pYZ5WDywbCE",
        "outputId": "b05a3cbe-7bdf-4e06-b4b9-b37902bcf009"
      },
      "source": [
        "# with crf - transition matrix\n",
        "with torch.no_grad():\n",
        "    crf_df_col = sorted(tag_to_ix, key=tag_to_ix.get)\n",
        "    crf_df_col.append(\"PAD\")\n",
        "    display(pd.DataFrame(ner.crf.transitions.numpy(), columns  = crf_df_col, index = crf_df_col))"
      ],
      "execution_count": null,
      "outputs": [
        {
          "output_type": "display_data",
          "data": {
            "text/html": [
              "<div>\n",
              "<style scoped>\n",
              "    .dataframe tbody tr th:only-of-type {\n",
              "        vertical-align: middle;\n",
              "    }\n",
              "\n",
              "    .dataframe tbody tr th {\n",
              "        vertical-align: top;\n",
              "    }\n",
              "\n",
              "    .dataframe thead th {\n",
              "        text-align: right;\n",
              "    }\n",
              "</style>\n",
              "<table border=\"1\" class=\"dataframe\">\n",
              "  <thead>\n",
              "    <tr style=\"text-align: right;\">\n",
              "      <th></th>\n",
              "      <th>O</th>\n",
              "      <th>B-group</th>\n",
              "      <th>I-group</th>\n",
              "      <th>I-person</th>\n",
              "      <th>B-person</th>\n",
              "      <th>B-product</th>\n",
              "      <th>I-product</th>\n",
              "      <th>I-location</th>\n",
              "      <th>B-location</th>\n",
              "      <th>I-corporation</th>\n",
              "      <th>B-corporation</th>\n",
              "      <th>B-creative-work</th>\n",
              "      <th>I-creative-work</th>\n",
              "      <th>PAD</th>\n",
              "    </tr>\n",
              "  </thead>\n",
              "  <tbody>\n",
              "    <tr>\n",
              "      <th>O</th>\n",
              "      <td>0.041648</td>\n",
              "      <td>0.050650</td>\n",
              "      <td>-0.069880</td>\n",
              "      <td>0.045376</td>\n",
              "      <td>0.003905</td>\n",
              "      <td>-0.085294</td>\n",
              "      <td>0.059485</td>\n",
              "      <td>0.090806</td>\n",
              "      <td>-0.012256</td>\n",
              "      <td>-0.057255</td>\n",
              "      <td>0.096673</td>\n",
              "      <td>0.072847</td>\n",
              "      <td>0.078780</td>\n",
              "      <td>-0.095997</td>\n",
              "    </tr>\n",
              "    <tr>\n",
              "      <th>B-group</th>\n",
              "      <td>-0.074618</td>\n",
              "      <td>-0.038954</td>\n",
              "      <td>0.054565</td>\n",
              "      <td>-0.084763</td>\n",
              "      <td>-0.074736</td>\n",
              "      <td>0.015912</td>\n",
              "      <td>-0.065272</td>\n",
              "      <td>0.067803</td>\n",
              "      <td>0.061721</td>\n",
              "      <td>0.025156</td>\n",
              "      <td>-0.080091</td>\n",
              "      <td>0.028850</td>\n",
              "      <td>-0.060311</td>\n",
              "      <td>0.012122</td>\n",
              "    </tr>\n",
              "    <tr>\n",
              "      <th>I-group</th>\n",
              "      <td>0.075894</td>\n",
              "      <td>0.036592</td>\n",
              "      <td>-0.079776</td>\n",
              "      <td>0.048398</td>\n",
              "      <td>0.083985</td>\n",
              "      <td>-0.079354</td>\n",
              "      <td>0.068320</td>\n",
              "      <td>0.023607</td>\n",
              "      <td>-0.064280</td>\n",
              "      <td>-0.091158</td>\n",
              "      <td>-0.012438</td>\n",
              "      <td>-0.032345</td>\n",
              "      <td>-0.008885</td>\n",
              "      <td>-0.016663</td>\n",
              "    </tr>\n",
              "    <tr>\n",
              "      <th>I-person</th>\n",
              "      <td>0.000722</td>\n",
              "      <td>-0.034956</td>\n",
              "      <td>-0.030544</td>\n",
              "      <td>0.084765</td>\n",
              "      <td>0.044308</td>\n",
              "      <td>-0.086839</td>\n",
              "      <td>0.034736</td>\n",
              "      <td>0.039767</td>\n",
              "      <td>0.066920</td>\n",
              "      <td>0.034167</td>\n",
              "      <td>-0.022300</td>\n",
              "      <td>-0.047448</td>\n",
              "      <td>0.090620</td>\n",
              "      <td>-0.023499</td>\n",
              "    </tr>\n",
              "    <tr>\n",
              "      <th>B-person</th>\n",
              "      <td>0.059258</td>\n",
              "      <td>-0.044683</td>\n",
              "      <td>-0.048386</td>\n",
              "      <td>0.009397</td>\n",
              "      <td>0.028880</td>\n",
              "      <td>-0.050254</td>\n",
              "      <td>-0.003347</td>\n",
              "      <td>0.069977</td>\n",
              "      <td>0.099857</td>\n",
              "      <td>-0.079228</td>\n",
              "      <td>-0.057742</td>\n",
              "      <td>-0.035049</td>\n",
              "      <td>0.095802</td>\n",
              "      <td>0.093217</td>\n",
              "    </tr>\n",
              "    <tr>\n",
              "      <th>B-product</th>\n",
              "      <td>0.083918</td>\n",
              "      <td>-0.075877</td>\n",
              "      <td>-0.024899</td>\n",
              "      <td>-0.055849</td>\n",
              "      <td>-0.068163</td>\n",
              "      <td>-0.020359</td>\n",
              "      <td>-0.009525</td>\n",
              "      <td>0.016532</td>\n",
              "      <td>0.005021</td>\n",
              "      <td>0.005391</td>\n",
              "      <td>0.025298</td>\n",
              "      <td>0.048689</td>\n",
              "      <td>0.064701</td>\n",
              "      <td>0.072946</td>\n",
              "    </tr>\n",
              "    <tr>\n",
              "      <th>I-product</th>\n",
              "      <td>-0.089904</td>\n",
              "      <td>-0.033039</td>\n",
              "      <td>0.044690</td>\n",
              "      <td>0.091969</td>\n",
              "      <td>0.013413</td>\n",
              "      <td>0.002547</td>\n",
              "      <td>0.093922</td>\n",
              "      <td>0.026416</td>\n",
              "      <td>0.016460</td>\n",
              "      <td>0.063477</td>\n",
              "      <td>0.020875</td>\n",
              "      <td>0.053715</td>\n",
              "      <td>0.056555</td>\n",
              "      <td>-0.054422</td>\n",
              "    </tr>\n",
              "    <tr>\n",
              "      <th>I-location</th>\n",
              "      <td>-0.073532</td>\n",
              "      <td>0.034827</td>\n",
              "      <td>0.088460</td>\n",
              "      <td>0.053001</td>\n",
              "      <td>-0.080591</td>\n",
              "      <td>0.004445</td>\n",
              "      <td>0.057938</td>\n",
              "      <td>-0.085584</td>\n",
              "      <td>-0.095133</td>\n",
              "      <td>-0.077992</td>\n",
              "      <td>0.075875</td>\n",
              "      <td>-0.013534</td>\n",
              "      <td>-0.062156</td>\n",
              "      <td>0.036203</td>\n",
              "    </tr>\n",
              "    <tr>\n",
              "      <th>B-location</th>\n",
              "      <td>0.045637</td>\n",
              "      <td>-0.036359</td>\n",
              "      <td>-0.051249</td>\n",
              "      <td>0.046206</td>\n",
              "      <td>-0.045281</td>\n",
              "      <td>0.026458</td>\n",
              "      <td>0.003450</td>\n",
              "      <td>-0.044761</td>\n",
              "      <td>-0.025556</td>\n",
              "      <td>0.040198</td>\n",
              "      <td>-0.086270</td>\n",
              "      <td>-0.091517</td>\n",
              "      <td>0.060604</td>\n",
              "      <td>0.044250</td>\n",
              "    </tr>\n",
              "    <tr>\n",
              "      <th>I-corporation</th>\n",
              "      <td>-0.074008</td>\n",
              "      <td>0.017013</td>\n",
              "      <td>0.071388</td>\n",
              "      <td>-0.060937</td>\n",
              "      <td>-0.067863</td>\n",
              "      <td>-0.048504</td>\n",
              "      <td>-0.094893</td>\n",
              "      <td>-0.008349</td>\n",
              "      <td>0.071206</td>\n",
              "      <td>0.095126</td>\n",
              "      <td>-0.098040</td>\n",
              "      <td>0.075355</td>\n",
              "      <td>0.079016</td>\n",
              "      <td>0.076429</td>\n",
              "    </tr>\n",
              "    <tr>\n",
              "      <th>B-corporation</th>\n",
              "      <td>-0.005189</td>\n",
              "      <td>0.087269</td>\n",
              "      <td>0.074349</td>\n",
              "      <td>0.070162</td>\n",
              "      <td>-0.039050</td>\n",
              "      <td>0.038063</td>\n",
              "      <td>0.039362</td>\n",
              "      <td>0.041791</td>\n",
              "      <td>-0.072229</td>\n",
              "      <td>0.049834</td>\n",
              "      <td>-0.014899</td>\n",
              "      <td>-0.044420</td>\n",
              "      <td>-0.082760</td>\n",
              "      <td>-0.068088</td>\n",
              "    </tr>\n",
              "    <tr>\n",
              "      <th>B-creative-work</th>\n",
              "      <td>-0.094022</td>\n",
              "      <td>-0.069957</td>\n",
              "      <td>0.037431</td>\n",
              "      <td>-0.065933</td>\n",
              "      <td>0.017553</td>\n",
              "      <td>0.023313</td>\n",
              "      <td>0.003806</td>\n",
              "      <td>-0.003944</td>\n",
              "      <td>0.035992</td>\n",
              "      <td>0.062686</td>\n",
              "      <td>0.034730</td>\n",
              "      <td>0.012682</td>\n",
              "      <td>-0.096001</td>\n",
              "      <td>-0.062577</td>\n",
              "    </tr>\n",
              "    <tr>\n",
              "      <th>I-creative-work</th>\n",
              "      <td>-0.023918</td>\n",
              "      <td>0.099880</td>\n",
              "      <td>0.042926</td>\n",
              "      <td>-0.037545</td>\n",
              "      <td>-0.083752</td>\n",
              "      <td>0.054825</td>\n",
              "      <td>-0.060423</td>\n",
              "      <td>0.045765</td>\n",
              "      <td>-0.013748</td>\n",
              "      <td>-0.000713</td>\n",
              "      <td>0.005101</td>\n",
              "      <td>-0.010074</td>\n",
              "      <td>-0.077996</td>\n",
              "      <td>0.042626</td>\n",
              "    </tr>\n",
              "    <tr>\n",
              "      <th>PAD</th>\n",
              "      <td>0.030895</td>\n",
              "      <td>-0.024212</td>\n",
              "      <td>-0.032458</td>\n",
              "      <td>0.071464</td>\n",
              "      <td>-0.090792</td>\n",
              "      <td>-0.045442</td>\n",
              "      <td>0.021342</td>\n",
              "      <td>-0.060553</td>\n",
              "      <td>0.085152</td>\n",
              "      <td>0.053838</td>\n",
              "      <td>-0.063756</td>\n",
              "      <td>-0.089831</td>\n",
              "      <td>-0.077894</td>\n",
              "      <td>0.021287</td>\n",
              "    </tr>\n",
              "  </tbody>\n",
              "</table>\n",
              "</div>"
            ],
            "text/plain": [
              "                        O   B-group  ...  I-creative-work       PAD\n",
              "O                0.041648  0.050650  ...         0.078780 -0.095997\n",
              "B-group         -0.074618 -0.038954  ...        -0.060311  0.012122\n",
              "I-group          0.075894  0.036592  ...        -0.008885 -0.016663\n",
              "I-person         0.000722 -0.034956  ...         0.090620 -0.023499\n",
              "B-person         0.059258 -0.044683  ...         0.095802  0.093217\n",
              "B-product        0.083918 -0.075877  ...         0.064701  0.072946\n",
              "I-product       -0.089904 -0.033039  ...         0.056555 -0.054422\n",
              "I-location      -0.073532  0.034827  ...        -0.062156  0.036203\n",
              "B-location       0.045637 -0.036359  ...         0.060604  0.044250\n",
              "I-corporation   -0.074008  0.017013  ...         0.079016  0.076429\n",
              "B-corporation   -0.005189  0.087269  ...        -0.082760 -0.068088\n",
              "B-creative-work -0.094022 -0.069957  ...        -0.096001 -0.062577\n",
              "I-creative-work -0.023918  0.099880  ...        -0.077996  0.042626\n",
              "PAD              0.030895 -0.024212  ...        -0.077894  0.021287\n",
              "\n",
              "[14 rows x 14 columns]"
            ]
          },
          "metadata": {}
        }
      ]
    },
    {
      "cell_type": "markdown",
      "source": [
        "## Validation"
      ],
      "metadata": {
        "id": "dPXrNahCmunw"
      }
    },
    {
      "cell_type": "code",
      "source": [
        "calculate_metrics(val_dataloader)"
      ],
      "metadata": {
        "colab": {
          "base_uri": "https://localhost:8080/"
        },
        "id": "5p8WpPlCmr1O",
        "outputId": "2ee972e8-6af6-4984-e99f-35a2e999363c"
      },
      "execution_count": null,
      "outputs": [
        {
          "output_type": "stream",
          "name": "stdout",
          "text": [
            "              precision    recall  f1-score   support\n",
            "\n",
            "           0       0.17      1.00      0.29     14475\n",
            "           1       0.00      0.00      0.00        25\n",
            "           2       0.00      0.00      0.00        39\n",
            "           3       0.71      0.10      0.18       470\n",
            "           4       0.50      0.01      0.02       117\n",
            "           5       0.00      0.00      0.00        94\n",
            "           6       0.17      0.01      0.02       114\n",
            "           7       0.44      0.05      0.10        74\n",
            "           8       1.00      0.09      0.17        33\n",
            "           9       0.00      0.00      0.00        11\n",
            "          10       0.00      0.00      0.00        33\n",
            "          11       0.12      0.01      0.01       133\n",
            "          12       0.12      0.01      0.02       105\n",
            "          13       0.00      0.00      0.00     67941\n",
            "\n",
            "    accuracy                           0.17     83664\n",
            "   macro avg       0.23      0.09      0.06     83664\n",
            "weighted avg       0.04      0.17      0.05     83664\n",
            "\n"
          ]
        },
        {
          "output_type": "stream",
          "name": "stderr",
          "text": [
            "/usr/local/lib/python3.7/dist-packages/sklearn/metrics/_classification.py:1308: UndefinedMetricWarning: Precision and F-score are ill-defined and being set to 0.0 in labels with no predicted samples. Use `zero_division` parameter to control this behavior.\n",
            "  _warn_prf(average, modifier, msg_start, len(result))\n",
            "/usr/local/lib/python3.7/dist-packages/sklearn/metrics/_classification.py:1308: UndefinedMetricWarning: Precision and F-score are ill-defined and being set to 0.0 in labels with no predicted samples. Use `zero_division` parameter to control this behavior.\n",
            "  _warn_prf(average, modifier, msg_start, len(result))\n",
            "/usr/local/lib/python3.7/dist-packages/sklearn/metrics/_classification.py:1308: UndefinedMetricWarning: Precision and F-score are ill-defined and being set to 0.0 in labels with no predicted samples. Use `zero_division` parameter to control this behavior.\n",
            "  _warn_prf(average, modifier, msg_start, len(result))\n"
          ]
        }
      ]
    },
    {
      "cell_type": "markdown",
      "source": [
        "## Testing"
      ],
      "metadata": {
        "id": "7rQEeBlpqgiO"
      }
    },
    {
      "cell_type": "code",
      "metadata": {
        "id": "X3K_CVWZ8ZRL"
      },
      "source": [
        "test_dataset = NerDataset(file_path=\"/content/emerging.test.annotated\", transform= customToTensor())\n",
        "test_dataloader = DataLoader(dataset = test_dataset, batch_size=BATCH_SIZE)"
      ],
      "execution_count": null,
      "outputs": []
    },
    {
      "cell_type": "code",
      "source": [
        "first_data = test_dataset[0]\n",
        "features,labels = first_data\n",
        "# print(first_data)\n",
        "print(features)\n",
        "print(labels)"
      ],
      "metadata": {
        "colab": {
          "base_uri": "https://localhost:8080/"
        },
        "id": "SgDNUcRLklXS",
        "outputId": "b3c49323-1640-4332-ec6e-955135fcaabf"
      },
      "execution_count": null,
      "outputs": [
        {
          "output_type": "stream",
          "name": "stdout",
          "text": [
            "tensor([   0,    0, 1648, 1765,  192,    0,   72, 1189,  254,    0,    0, 1229,\n",
            "          98,    0,    0,    0,    5,    0, 8771,   46,    0,   62,  308,   75,\n",
            "           0,    0,   15,    1,    1,    1,    1,    1,    1,    1,    1,    1,\n",
            "           1,    1,    1,    1,    1,    1,    1,    1,    1,    1,    1,    1,\n",
            "           1,    1,    1,    1,    1,    1,    1,    1,    1,    1,    1,    1,\n",
            "           1,    1,    1,    1,    1,    1,    1,    1,    1,    1,    1,    1,\n",
            "           1,    1,    1,    1,    1,    1,    1,    1,    1,    1,    1,    1,\n",
            "           1,    1,    1,    1,    1,    1,    1,    1,    1,    1,    1,    1,\n",
            "           1,    1,    1,    1,    1,    1,    1,    1,    1,    1])\n",
            "tensor([ 0,  0,  0,  0,  0,  0,  0,  0,  0,  0,  0,  0,  0,  0,  0,  0,  0,  0,\n",
            "         0,  0,  7,  0,  0,  0,  0,  0,  0, 13, 13, 13, 13, 13, 13, 13, 13, 13,\n",
            "        13, 13, 13, 13, 13, 13, 13, 13, 13, 13, 13, 13, 13, 13, 13, 13, 13, 13,\n",
            "        13, 13, 13, 13, 13, 13, 13, 13, 13, 13, 13, 13, 13, 13, 13, 13, 13, 13,\n",
            "        13, 13, 13, 13, 13, 13, 13, 13, 13, 13, 13, 13, 13, 13, 13, 13, 13, 13,\n",
            "        13, 13, 13, 13, 13, 13, 13, 13, 13, 13, 13, 13, 13, 13, 13, 13])\n"
          ]
        }
      ]
    },
    {
      "cell_type": "code",
      "source": [
        "calculate_metrics(test_dataloader)"
      ],
      "metadata": {
        "id": "799JhITLANJL",
        "colab": {
          "base_uri": "https://localhost:8080/"
        },
        "outputId": "9a35a72a-4a60-42cc-9f6e-c4e69f2c3035"
      },
      "execution_count": null,
      "outputs": [
        {
          "output_type": "stream",
          "name": "stdout",
          "text": [
            "Using CRF\n",
            "              precision    recall  f1-score   support\n",
            "\n",
            "           0       0.93      0.99      0.96     21654\n",
            "           1       0.06      0.04      0.05        70\n",
            "           2       0.07      0.03      0.04       165\n",
            "           3       0.54      0.05      0.09       429\n",
            "           4       0.31      0.04      0.07       131\n",
            "           5       0.25      0.02      0.03       126\n",
            "           6       0.08      0.01      0.01       127\n",
            "           7       0.06      0.07      0.07       150\n",
            "           8       0.29      0.10      0.14        94\n",
            "           9       0.00      0.00      0.00        22\n",
            "          10       0.05      0.02      0.02        66\n",
            "          11       0.33      0.02      0.04       218\n",
            "          12       0.12      0.01      0.01       142\n",
            "          13       1.00      1.00      1.00    113028\n",
            "\n",
            "    accuracy                           0.99    136422\n",
            "   macro avg       0.29      0.17      0.18    136422\n",
            "weighted avg       0.98      0.99      0.98    136422\n",
            "\n"
          ]
        },
        {
          "output_type": "stream",
          "name": "stderr",
          "text": [
            "/usr/local/lib/python3.7/dist-packages/sklearn/metrics/_classification.py:1308: UndefinedMetricWarning: Precision and F-score are ill-defined and being set to 0.0 in labels with no predicted samples. Use `zero_division` parameter to control this behavior.\n",
            "  _warn_prf(average, modifier, msg_start, len(result))\n",
            "/usr/local/lib/python3.7/dist-packages/sklearn/metrics/_classification.py:1308: UndefinedMetricWarning: Precision and F-score are ill-defined and being set to 0.0 in labels with no predicted samples. Use `zero_division` parameter to control this behavior.\n",
            "  _warn_prf(average, modifier, msg_start, len(result))\n",
            "/usr/local/lib/python3.7/dist-packages/sklearn/metrics/_classification.py:1308: UndefinedMetricWarning: Precision and F-score are ill-defined and being set to 0.0 in labels with no predicted samples. Use `zero_division` parameter to control this behavior.\n",
            "  _warn_prf(average, modifier, msg_start, len(result))\n"
          ]
        }
      ]
    },
    {
      "cell_type": "code",
      "source": [
        ""
      ],
      "metadata": {
        "id": "RYHwYmuyB1VZ"
      },
      "execution_count": null,
      "outputs": []
    }
  ]
}